{
 "cells": [
  {
   "cell_type": "markdown",
   "metadata": {},
   "source": [
    "## Question"
   ]
  },
  {
   "cell_type": "markdown",
   "metadata": {},
   "source": [
    "Design a drill string using the following data.\n",
    "Well Depth = 12000 ft,\n",
    "well size = 8.5 inch,\n",
    "Mud weight = 10.5 ppg,\n",
    "WOB = 60000 lbs,\n",
    "MOP = 50000 lbs,\n",
    "SFS = 1.3,\n",
    "drill collar weight = 93.63 ppf,\n",
    "Drillpipe weight = 19.5 ppf,\n",
    "Formtion pressure gradient = 0.48 psi/ft.\n",
    "\n"
   ]
  },
  {
   "cell_type": "code",
   "execution_count": 1,
   "metadata": {},
   "outputs": [],
   "source": [
    "import numpy as np\n",
    "import pandas as pd\n",
    "import matplotlib.pyplot as plt"
   ]
  },
  {
   "cell_type": "code",
   "execution_count": 2,
   "metadata": {},
   "outputs": [],
   "source": [
    "pipe = np.array(['x-2','x-p','x-1','E-p','E-2','p-1','s-1'])"
   ]
  },
  {
   "cell_type": "code",
   "execution_count": 3,
   "metadata": {},
   "outputs": [],
   "source": [
    "W = np.array([22.46,22.46,22.46,21.92,21.92,23.32,23.75])"
   ]
  },
  {
   "cell_type": "code",
   "execution_count": 4,
   "metadata": {},
   "outputs": [],
   "source": [
    "pc = np.array([6262,8241,12026,7662,5514,12999,15672])"
   ]
  },
  {
   "cell_type": "code",
   "execution_count": 5,
   "metadata": {},
   "outputs": [],
   "source": [
    "pt = np.array([394612,394612,501087,311536,311536,553833,712070])"
   ]
  },
  {
   "cell_type": "code",
   "execution_count": 6,
   "metadata": {},
   "outputs": [],
   "source": [
    "pb = np.array([8941,11005,12037,8688,7059,13304,17105])"
   ]
  },
  {
   "cell_type": "code",
   "execution_count": 7,
   "metadata": {},
   "outputs": [],
   "source": [
    "ff = pd.DataFrame({'pipe' : pipe , 'W' : W , 'pc' : pc , 'pt' : pt , 'pb' : pb})\n"
   ]
  },
  {
   "cell_type": "code",
   "execution_count": 8,
   "metadata": {},
   "outputs": [
    {
     "data": {
      "text/html": [
       "<div>\n",
       "<style scoped>\n",
       "    .dataframe tbody tr th:only-of-type {\n",
       "        vertical-align: middle;\n",
       "    }\n",
       "\n",
       "    .dataframe tbody tr th {\n",
       "        vertical-align: top;\n",
       "    }\n",
       "\n",
       "    .dataframe thead th {\n",
       "        text-align: right;\n",
       "    }\n",
       "</style>\n",
       "<table border=\"1\" class=\"dataframe\">\n",
       "  <thead>\n",
       "    <tr style=\"text-align: right;\">\n",
       "      <th></th>\n",
       "      <th>pipe</th>\n",
       "      <th>W</th>\n",
       "      <th>pc</th>\n",
       "      <th>pt</th>\n",
       "      <th>pb</th>\n",
       "    </tr>\n",
       "  </thead>\n",
       "  <tbody>\n",
       "    <tr>\n",
       "      <th>0</th>\n",
       "      <td>x-2</td>\n",
       "      <td>22.46</td>\n",
       "      <td>6262</td>\n",
       "      <td>394612</td>\n",
       "      <td>8941</td>\n",
       "    </tr>\n",
       "    <tr>\n",
       "      <th>1</th>\n",
       "      <td>x-p</td>\n",
       "      <td>22.46</td>\n",
       "      <td>8241</td>\n",
       "      <td>394612</td>\n",
       "      <td>11005</td>\n",
       "    </tr>\n",
       "    <tr>\n",
       "      <th>2</th>\n",
       "      <td>x-1</td>\n",
       "      <td>22.46</td>\n",
       "      <td>12026</td>\n",
       "      <td>501087</td>\n",
       "      <td>12037</td>\n",
       "    </tr>\n",
       "    <tr>\n",
       "      <th>3</th>\n",
       "      <td>E-p</td>\n",
       "      <td>21.92</td>\n",
       "      <td>7662</td>\n",
       "      <td>311536</td>\n",
       "      <td>8688</td>\n",
       "    </tr>\n",
       "    <tr>\n",
       "      <th>4</th>\n",
       "      <td>E-2</td>\n",
       "      <td>21.92</td>\n",
       "      <td>5514</td>\n",
       "      <td>311536</td>\n",
       "      <td>7059</td>\n",
       "    </tr>\n",
       "    <tr>\n",
       "      <th>5</th>\n",
       "      <td>p-1</td>\n",
       "      <td>23.32</td>\n",
       "      <td>12999</td>\n",
       "      <td>553833</td>\n",
       "      <td>13304</td>\n",
       "    </tr>\n",
       "    <tr>\n",
       "      <th>6</th>\n",
       "      <td>s-1</td>\n",
       "      <td>23.75</td>\n",
       "      <td>15672</td>\n",
       "      <td>712070</td>\n",
       "      <td>17105</td>\n",
       "    </tr>\n",
       "  </tbody>\n",
       "</table>\n",
       "</div>"
      ],
      "text/plain": [
       "  pipe      W     pc      pt     pb\n",
       "0  x-2  22.46   6262  394612   8941\n",
       "1  x-p  22.46   8241  394612  11005\n",
       "2  x-1  22.46  12026  501087  12037\n",
       "3  E-p  21.92   7662  311536   8688\n",
       "4  E-2  21.92   5514  311536   7059\n",
       "5  p-1  23.32  12999  553833  13304\n",
       "6  s-1  23.75  15672  712070  17105"
      ]
     },
     "execution_count": 8,
     "metadata": {},
     "output_type": "execute_result"
    }
   ],
   "source": [
    "ff"
   ]
  },
  {
   "cell_type": "code",
   "execution_count": 9,
   "metadata": {},
   "outputs": [],
   "source": [
    "dd = ff.sort_values(by = 'pt')"
   ]
  },
  {
   "cell_type": "code",
   "execution_count": 10,
   "metadata": {},
   "outputs": [
    {
     "name": "stdout",
     "output_type": "stream",
     "text": [
      "enter value of well depth(in ft) : 12000\n",
      "enter value of mud weight (in ppg) : 10.5\n",
      "enter value of MOP (in lbs) :50000\n",
      "enter value of SFT :1.3\n",
      "enter value of WOB (in lbs) : 60000\n",
      "enter value of FOrmation Pressure Gradient in psi/ft : 0.48\n",
      "enter value of well diameter (in inch) : 8.5\n"
     ]
    }
   ],
   "source": [
    "Well_depth = int(input('enter value of well depth(in ft) : '))\n",
    "Mud_weight = float(input('enter value of mud weight (in ppg) : ')) \n",
    "Mop = int(input('enter value of MOP (in lbs) :' ))\n",
    "SFT = float(input('enter value of SFT :'))\n",
    "WOB = float(input('enter value of WOB (in lbs) : '))\n",
    "FPG = float(input('enter value of FOrmation Pressure Gradient in psi/ft : '))\n",
    "well_size = float(input('enter value of well diameter (in inch) : '))\n"
   ]
  },
  {
   "cell_type": "code",
   "execution_count": 11,
   "metadata": {},
   "outputs": [
    {
     "name": "stdout",
     "output_type": "stream",
     "text": [
      "enter value of drill collar weight (in lbf/ft) : 93.63\n",
      "enter value of drill pipe weight (in lbf/ft) : 19.5\n"
     ]
    }
   ],
   "source": [
    "Wc = float(input('enter value of drill collar weight (in lbf/ft) : '))\n",
    "Wp = float(input('enter value of drill pipe weight (in lbf/ft) : '))\n",
    "pf = Well_depth * FPG"
   ]
  },
  {
   "cell_type": "code",
   "execution_count": 12,
   "metadata": {},
   "outputs": [
    {
     "data": {
      "text/html": [
       "<div>\n",
       "<style scoped>\n",
       "    .dataframe tbody tr th:only-of-type {\n",
       "        vertical-align: middle;\n",
       "    }\n",
       "\n",
       "    .dataframe tbody tr th {\n",
       "        vertical-align: top;\n",
       "    }\n",
       "\n",
       "    .dataframe thead th {\n",
       "        text-align: right;\n",
       "    }\n",
       "</style>\n",
       "<table border=\"1\" class=\"dataframe\">\n",
       "  <thead>\n",
       "    <tr style=\"text-align: right;\">\n",
       "      <th></th>\n",
       "      <th>pipe</th>\n",
       "      <th>W</th>\n",
       "      <th>pc</th>\n",
       "      <th>pt</th>\n",
       "      <th>pb</th>\n",
       "    </tr>\n",
       "  </thead>\n",
       "  <tbody>\n",
       "    <tr>\n",
       "      <th>3</th>\n",
       "      <td>E-p</td>\n",
       "      <td>21.92</td>\n",
       "      <td>7662</td>\n",
       "      <td>311536</td>\n",
       "      <td>8688</td>\n",
       "    </tr>\n",
       "    <tr>\n",
       "      <th>4</th>\n",
       "      <td>E-2</td>\n",
       "      <td>21.92</td>\n",
       "      <td>5514</td>\n",
       "      <td>311536</td>\n",
       "      <td>7059</td>\n",
       "    </tr>\n",
       "    <tr>\n",
       "      <th>0</th>\n",
       "      <td>x-2</td>\n",
       "      <td>22.46</td>\n",
       "      <td>6262</td>\n",
       "      <td>394612</td>\n",
       "      <td>8941</td>\n",
       "    </tr>\n",
       "    <tr>\n",
       "      <th>1</th>\n",
       "      <td>x-p</td>\n",
       "      <td>22.46</td>\n",
       "      <td>8241</td>\n",
       "      <td>394612</td>\n",
       "      <td>11005</td>\n",
       "    </tr>\n",
       "    <tr>\n",
       "      <th>2</th>\n",
       "      <td>x-1</td>\n",
       "      <td>22.46</td>\n",
       "      <td>12026</td>\n",
       "      <td>501087</td>\n",
       "      <td>12037</td>\n",
       "    </tr>\n",
       "    <tr>\n",
       "      <th>5</th>\n",
       "      <td>p-1</td>\n",
       "      <td>23.32</td>\n",
       "      <td>12999</td>\n",
       "      <td>553833</td>\n",
       "      <td>13304</td>\n",
       "    </tr>\n",
       "    <tr>\n",
       "      <th>6</th>\n",
       "      <td>s-1</td>\n",
       "      <td>23.75</td>\n",
       "      <td>15672</td>\n",
       "      <td>712070</td>\n",
       "      <td>17105</td>\n",
       "    </tr>\n",
       "  </tbody>\n",
       "</table>\n",
       "</div>"
      ],
      "text/plain": [
       "  pipe      W     pc      pt     pb\n",
       "3  E-p  21.92   7662  311536   8688\n",
       "4  E-2  21.92   5514  311536   7059\n",
       "0  x-2  22.46   6262  394612   8941\n",
       "1  x-p  22.46   8241  394612  11005\n",
       "2  x-1  22.46  12026  501087  12037\n",
       "5  p-1  23.32  12999  553833  13304\n",
       "6  s-1  23.75  15672  712070  17105"
      ]
     },
     "execution_count": 12,
     "metadata": {},
     "output_type": "execute_result"
    }
   ],
   "source": [
    "aa = dd.loc[ff.pb >= pf]\n",
    "aa"
   ]
  },
  {
   "cell_type": "code",
   "execution_count": 13,
   "metadata": {},
   "outputs": [
    {
     "data": {
      "text/plain": [
       "0.8394495412844036"
      ]
     },
     "execution_count": 13,
     "metadata": {},
     "output_type": "execute_result"
    }
   ],
   "source": [
    "B = float(1-Mud_weight/65.4)\n",
    "B"
   ]
  },
  {
   "cell_type": "code",
   "execution_count": 14,
   "metadata": {},
   "outputs": [],
   "source": [
    "Ldc = float((WOB + Well_depth * Wp * (1 - B))/(Wc - (1 - B) * (Wp - Wc)))"
   ]
  },
  {
   "cell_type": "code",
   "execution_count": 15,
   "metadata": {},
   "outputs": [
    {
     "data": {
      "text/plain": [
       "924.5458445641532"
      ]
     },
     "execution_count": 15,
     "metadata": {},
     "output_type": "execute_result"
    }
   ],
   "source": [
    "Ldc"
   ]
  },
  {
   "cell_type": "code",
   "execution_count": 16,
   "metadata": {},
   "outputs": [],
   "source": [
    "ph = 0.052 * Mud_weight * (Well_depth - Ldc)"
   ]
  },
  {
   "cell_type": "code",
   "execution_count": 17,
   "metadata": {},
   "outputs": [
    {
     "data": {
      "text/plain": [
       "6047.197968867972"
      ]
     },
     "execution_count": 17,
     "metadata": {},
     "output_type": "execute_result"
    }
   ],
   "source": [
    "ph"
   ]
  },
  {
   "cell_type": "code",
   "execution_count": 18,
   "metadata": {},
   "outputs": [],
   "source": [
    "bb = aa.loc[ff.pc > ph]"
   ]
  },
  {
   "cell_type": "code",
   "execution_count": 19,
   "metadata": {},
   "outputs": [
    {
     "data": {
      "text/html": [
       "<div>\n",
       "<style scoped>\n",
       "    .dataframe tbody tr th:only-of-type {\n",
       "        vertical-align: middle;\n",
       "    }\n",
       "\n",
       "    .dataframe tbody tr th {\n",
       "        vertical-align: top;\n",
       "    }\n",
       "\n",
       "    .dataframe thead th {\n",
       "        text-align: right;\n",
       "    }\n",
       "</style>\n",
       "<table border=\"1\" class=\"dataframe\">\n",
       "  <thead>\n",
       "    <tr style=\"text-align: right;\">\n",
       "      <th></th>\n",
       "      <th>pipe</th>\n",
       "      <th>W</th>\n",
       "      <th>pc</th>\n",
       "      <th>pt</th>\n",
       "      <th>pb</th>\n",
       "    </tr>\n",
       "  </thead>\n",
       "  <tbody>\n",
       "    <tr>\n",
       "      <th>3</th>\n",
       "      <td>E-p</td>\n",
       "      <td>21.92</td>\n",
       "      <td>7662</td>\n",
       "      <td>311536</td>\n",
       "      <td>8688</td>\n",
       "    </tr>\n",
       "    <tr>\n",
       "      <th>0</th>\n",
       "      <td>x-2</td>\n",
       "      <td>22.46</td>\n",
       "      <td>6262</td>\n",
       "      <td>394612</td>\n",
       "      <td>8941</td>\n",
       "    </tr>\n",
       "    <tr>\n",
       "      <th>1</th>\n",
       "      <td>x-p</td>\n",
       "      <td>22.46</td>\n",
       "      <td>8241</td>\n",
       "      <td>394612</td>\n",
       "      <td>11005</td>\n",
       "    </tr>\n",
       "    <tr>\n",
       "      <th>2</th>\n",
       "      <td>x-1</td>\n",
       "      <td>22.46</td>\n",
       "      <td>12026</td>\n",
       "      <td>501087</td>\n",
       "      <td>12037</td>\n",
       "    </tr>\n",
       "    <tr>\n",
       "      <th>5</th>\n",
       "      <td>p-1</td>\n",
       "      <td>23.32</td>\n",
       "      <td>12999</td>\n",
       "      <td>553833</td>\n",
       "      <td>13304</td>\n",
       "    </tr>\n",
       "    <tr>\n",
       "      <th>6</th>\n",
       "      <td>s-1</td>\n",
       "      <td>23.75</td>\n",
       "      <td>15672</td>\n",
       "      <td>712070</td>\n",
       "      <td>17105</td>\n",
       "    </tr>\n",
       "  </tbody>\n",
       "</table>\n",
       "</div>"
      ],
      "text/plain": [
       "  pipe      W     pc      pt     pb\n",
       "3  E-p  21.92   7662  311536   8688\n",
       "0  x-2  22.46   6262  394612   8941\n",
       "1  x-p  22.46   8241  394612  11005\n",
       "2  x-1  22.46  12026  501087  12037\n",
       "5  p-1  23.32  12999  553833  13304\n",
       "6  s-1  23.75  15672  712070  17105"
      ]
     },
     "execution_count": 19,
     "metadata": {},
     "output_type": "execute_result"
    }
   ],
   "source": [
    "bb\n"
   ]
  },
  {
   "cell_type": "code",
   "execution_count": 20,
   "metadata": {},
   "outputs": [
    {
     "data": {
      "text/plain": [
       "8571.139608746878"
      ]
     },
     "execution_count": 20,
     "metadata": {},
     "output_type": "execute_result"
    }
   ],
   "source": [
    "a = ((bb.iloc[0,3] * 0.9) - Mop)/((bb.iloc[0,1]) * B ) - ((Ldc * Wc) / (bb.iloc[0,1]))\n",
    "a"
   ]
  },
  {
   "cell_type": "code",
   "execution_count": 21,
   "metadata": {},
   "outputs": [],
   "source": [
    "b = ((bb.iloc[0,3] * 0.9))/((bb.iloc[0,1]) *SFT * B ) - ((Ldc * Wc) / (bb.iloc[0,1]))"
   ]
  },
  {
   "cell_type": "code",
   "execution_count": 22,
   "metadata": {},
   "outputs": [
    {
     "data": {
      "text/plain": [
       "7772.0611147467625"
      ]
     },
     "execution_count": 22,
     "metadata": {},
     "output_type": "execute_result"
    }
   ],
   "source": [
    "b"
   ]
  },
  {
   "cell_type": "code",
   "execution_count": 23,
   "metadata": {},
   "outputs": [],
   "source": [
    "if a < b:\n",
    "    Lp1 = a\n",
    "else: \n",
    "    Lp1 = b"
   ]
  },
  {
   "cell_type": "code",
   "execution_count": 24,
   "metadata": {},
   "outputs": [
    {
     "data": {
      "text/plain": [
       "7772.0611147467625"
      ]
     },
     "execution_count": 24,
     "metadata": {},
     "output_type": "execute_result"
    }
   ],
   "source": [
    "Lp1"
   ]
  },
  {
   "cell_type": "code",
   "execution_count": 25,
   "metadata": {},
   "outputs": [],
   "source": [
    "Depth_left = Well_depth - Ldc - Lp1"
   ]
  },
  {
   "cell_type": "code",
   "execution_count": 26,
   "metadata": {},
   "outputs": [],
   "source": [
    "a = ((bb.iloc[1,3] * 0.9) - Mop)/((bb.iloc[1,1]) * B ) - (((Ldc * Wc) + (Lp1 * (bb.iloc[1,1])))   / (bb.iloc[1,1]))"
   ]
  },
  {
   "cell_type": "code",
   "execution_count": 27,
   "metadata": {},
   "outputs": [],
   "source": [
    "b = ((bb.iloc[1,3] * 0.9))/((bb.iloc[1,1]) *SFT * B ) - (((Ldc * Wc) + (Lp1 * (bb.iloc[1,1]))) / (bb.iloc[1,1]))"
   ]
  },
  {
   "cell_type": "code",
   "execution_count": 28,
   "metadata": {},
   "outputs": [],
   "source": [
    "if a < b:\n",
    "    Lp2 = a\n",
    "else: \n",
    "    Lp2 = b"
   ]
  },
  {
   "cell_type": "code",
   "execution_count": 29,
   "metadata": {},
   "outputs": [],
   "source": [
    "Lp3 = Well_depth - Ldc - Lp1 - Lp2"
   ]
  },
  {
   "cell_type": "code",
   "execution_count": 30,
   "metadata": {},
   "outputs": [
    {
     "name": "stdout",
     "output_type": "stream",
     "text": [
      "Drill collar size = 924.5458445641532 feet (from 11075.454155435847 feet to 12000 feet) \n",
      "Section_1 size is =  7772.0611147467625 feet (from 3303.393040689084 feet to 11075.454155435847 feet use drill pipe E-p)\n",
      "Section_2 size is =  2863.633821171399 feet (from 439.7592195176851 feet to 3303.393040689084 feet use drill pipe x-2 )\n",
      "Section_3 size is =  439.7592195176858 feet (from Surface to 439.7592195176851 feet use drill pipe x-p )\n"
     ]
    }
   ],
   "source": [
    "print(f'Drill collar size = {Ldc} feet (from {Well_depth - Ldc} feet to {Well_depth} feet) ')\n",
    "print(f'Section_1 size is =  {Lp1} feet (from {Well_depth - Lp1 - Ldc} feet to {Well_depth - Ldc} feet use drill pipe {bb.iloc[0,0]})')\n",
    "print(f'Section_2 size is =  {Lp2} feet (from {Well_depth - Lp2 -Lp1 - Ldc } feet to {Well_depth - Lp1 - Ldc} feet use drill pipe {bb.iloc[1,0]} )')\n",
    "print(f'Section_3 size is =  {Lp3} feet (from Surface to {Well_depth - Lp2 - Lp1 - Ldc} feet use drill pipe {bb.iloc[2,0]} )')"
   ]
  }
 ],
 "metadata": {
  "kernelspec": {
   "display_name": "Python 3",
   "language": "python",
   "name": "python3"
  },
  "language_info": {
   "codemirror_mode": {
    "name": "ipython",
    "version": 3
   },
   "file_extension": ".py",
   "mimetype": "text/x-python",
   "name": "python",
   "nbconvert_exporter": "python",
   "pygments_lexer": "ipython3",
   "version": "3.8.3"
  }
 },
 "nbformat": 4,
 "nbformat_minor": 4
}
